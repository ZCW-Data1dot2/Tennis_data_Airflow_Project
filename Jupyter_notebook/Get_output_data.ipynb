{
 "cells": [
  {
   "cell_type": "code",
   "execution_count": 1,
   "metadata": {
    "execution": {
     "iopub.execute_input": "2021-01-18T03:45:31.240511Z",
     "iopub.status.busy": "2021-01-18T03:45:31.239132Z",
     "iopub.status.idle": "2021-01-18T03:45:31.241793Z",
     "shell.execute_reply": "2021-01-18T03:45:31.242695Z"
    },
    "papermill": {
     "duration": 0.011384,
     "end_time": "2021-01-18T03:45:31.242968",
     "exception": false,
     "start_time": "2021-01-18T03:45:31.231584",
     "status": "completed"
    },
    "tags": [
     "injected-parameters"
    ]
   },
   "outputs": [],
   "source": [
    "# Parameters\n",
    "TEST = True\n",
    "QUICK_RUN = True\n"
   ]
  },
  {
   "cell_type": "code",
   "execution_count": 2,
   "metadata": {
    "execution": {
     "iopub.execute_input": "2021-01-18T03:45:31.254904Z",
     "iopub.status.busy": "2021-01-18T03:45:31.252985Z",
     "iopub.status.idle": "2021-01-18T03:45:32.314811Z",
     "shell.execute_reply": "2021-01-18T03:45:32.315839Z"
    },
    "papermill": {
     "duration": 1.069411,
     "end_time": "2021-01-18T03:45:32.316184",
     "exception": false,
     "start_time": "2021-01-18T03:45:31.246773",
     "status": "completed"
    },
    "tags": []
   },
   "outputs": [],
   "source": [
    "import kaggle\n",
    "kaggle.api.authenticate()\n",
    "kaggle.api.dataset_download_files('tbrownlow3/atp-tennis', path='/Users/suma/dev/airflow_home/Tennis_data_Airflow_Project/Data', unzip=True)"
   ]
  },
  {
   "cell_type": "code",
   "execution_count": null,
   "metadata": {
    "papermill": {
     "duration": 0.002537,
     "end_time": "2021-01-18T03:45:32.322537",
     "exception": false,
     "start_time": "2021-01-18T03:45:32.320000",
     "status": "completed"
    },
    "tags": []
   },
   "outputs": [],
   "source": []
  }
 ],
 "metadata": {
  "kernelspec": {
   "display_name": "Python 3",
   "language": "python",
   "name": "python3"
  },
  "language_info": {
   "codemirror_mode": {
    "name": "ipython",
    "version": 3
   },
   "file_extension": ".py",
   "mimetype": "text/x-python",
   "name": "python",
   "nbconvert_exporter": "python",
   "pygments_lexer": "ipython3",
   "version": "3.8.3"
  },
  "papermill": {
   "default_parameters": {},
   "duration": 2.714891,
   "end_time": "2021-01-18T03:45:32.634849",
   "environment_variables": {},
   "exception": null,
   "input_path": "/Users/suma/dev/airflow_home/Tennis_data_Airflow_Project/Jupyter_files/Get_data.ipynb",
   "output_path": "/Users/suma/dev/airflow_home/Tennis_data_Airflow_Project/Jupyter_files/Get_output_data.ipynb",
   "parameters": {
    "QUICK_RUN": true,
    "TEST": true
   },
   "start_time": "2021-01-18T03:45:29.919958",
   "version": "2.2.2"
  }
 },
 "nbformat": 4,
 "nbformat_minor": 4
}